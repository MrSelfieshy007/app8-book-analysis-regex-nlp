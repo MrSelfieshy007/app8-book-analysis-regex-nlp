{
 "cells": [
  {
   "cell_type": "markdown",
   "id": "2e00a4a8-47ec-438d-89f6-2828fe1e3be0",
   "metadata": {},
   "source": [
    "# Load the book"
   ]
  },
  {
   "cell_type": "code",
   "execution_count": 2,
   "id": "4baa5fb9-a99c-4f37-a0c5-b8cc7a8a1c23",
   "metadata": {},
   "outputs": [],
   "source": [
    "with open(\"miracle_in_the_andes.txt\",\"r\",encoding='utf-8') as file:\n",
    "    book = file.read()"
   ]
  },
  {
   "cell_type": "code",
   "execution_count": 4,
   "id": "27d5fd99-b75e-4097-beca-0d2129a95381",
   "metadata": {},
   "outputs": [
    {
     "data": {
      "text/plain": [
       "str"
      ]
     },
     "execution_count": 4,
     "metadata": {},
     "output_type": "execute_result"
    }
   ],
   "source": [
    "type(book)"
   ]
  },
  {
   "cell_type": "markdown",
   "id": "4bac4564-674a-41d8-aded-7fcb897f5a9f",
   "metadata": {},
   "source": [
    "# How many chapters?"
   ]
  },
  {
   "cell_type": "markdown",
   "id": "275fc3c9-2ffb-465b-8307-528a37fff2ba",
   "metadata": {},
   "source": [
    "### with string methods\n"
   ]
  },
  {
   "cell_type": "code",
   "execution_count": 7,
   "id": "c1c80062-7d30-4b97-9c5f-5ad55b1e6853",
   "metadata": {},
   "outputs": [
    {
     "data": {
      "text/plain": [
       "11"
      ]
     },
     "execution_count": 7,
     "metadata": {},
     "output_type": "execute_result"
    }
   ],
   "source": [
    "book.count(\"Chapter\")"
   ]
  },
  {
   "cell_type": "markdown",
   "id": "31b95865-52cd-47ed-b88b-ec33d312624c",
   "metadata": {},
   "source": [
    "# using regex"
   ]
  },
  {
   "cell_type": "code",
   "execution_count": 8,
   "id": "267750df-fb4c-483b-b161-75311fc975a0",
   "metadata": {},
   "outputs": [],
   "source": [
    "import re"
   ]
  },
  {
   "cell_type": "code",
   "execution_count": 11,
   "id": "1975807a-a3c8-457c-bd48-392556596128",
   "metadata": {},
   "outputs": [
    {
     "data": {
      "text/plain": [
       "10"
      ]
     },
     "execution_count": 11,
     "metadata": {},
     "output_type": "execute_result"
    }
   ],
   "source": [
    "pattern = re.compile(\"Chapter [0-9]+\")\n",
    "findings = re.findall(pattern, book)\n",
    "len(findings)"
   ]
  },
  {
   "cell_type": "markdown",
   "id": "20167413-1dc8-4a7f-b2e8-8c12bedd230c",
   "metadata": {},
   "source": [
    "# which are the sentences where \"love\" was used?"
   ]
  },
  {
   "cell_type": "code",
   "execution_count": 14,
   "id": "4595df39-350f-440f-89b1-4283e4813e8c",
   "metadata": {},
   "outputs": [
    {
     "data": {
      "text/plain": [
       "67"
      ]
     },
     "execution_count": 14,
     "metadata": {},
     "output_type": "execute_result"
    }
   ],
   "source": [
    "pattern = re.compile(\"[A-Z]{1}[^.]*[^a-zA-z]+love[^a-zA-z]+[^.]*.\")\n",
    "findings = re.findall(pattern,book)\n",
    "len(findings)"
   ]
  },
  {
   "cell_type": "markdown",
   "id": "5407ee79-fbb6-41e8-a8f3-30524e53941f",
   "metadata": {},
   "source": [
    "# What are the most used words?"
   ]
  },
  {
   "cell_type": "code",
   "execution_count": 17,
   "id": "fbc1d7ee-3a46-41ca-885a-c83681ed4d08",
   "metadata": {},
   "outputs": [
    {
     "data": {
      "text/plain": [
       "['chapter', 'before', 'it', 'was', 'friday']"
      ]
     },
     "execution_count": 17,
     "metadata": {},
     "output_type": "execute_result"
    }
   ],
   "source": [
    "pattern = re.compile(\"[a-zA-z]+\")\n",
    "findings = re.findall(pattern, book.lower())\n",
    "findings[:5]"
   ]
  },
  {
   "cell_type": "code",
   "execution_count": 19,
   "id": "0bfc810a-1da3-45ca-8a90-7906457ec073",
   "metadata": {},
   "outputs": [],
   "source": [
    "d = {}\n",
    "for word in findings:\n",
    "    if word in d.keys():\n",
    "        d[word] = d[word] + 1\n",
    "    else:\n",
    "        d[word] = 1"
   ]
  },
  {
   "cell_type": "code",
   "execution_count": 1,
   "id": "754e1400-f0df-49a2-8e14-6dca674c228e",
   "metadata": {},
   "outputs": [
    {
     "ename": "NameError",
     "evalue": "name 'd' is not defined",
     "output_type": "error",
     "traceback": [
      "\u001b[1;31m---------------------------------------------------------------------------\u001b[0m",
      "\u001b[1;31mNameError\u001b[0m                                 Traceback (most recent call last)",
      "Cell \u001b[1;32mIn[1], line 1\u001b[0m\n\u001b[1;32m----> 1\u001b[0m d_list \u001b[38;5;241m=\u001b[39m [(value,key) \u001b[38;5;28;01mfor\u001b[39;00m (key,value) \u001b[38;5;129;01min\u001b[39;00m \u001b[43md\u001b[49m\u001b[38;5;241m.\u001b[39mitems()]\n\u001b[0;32m      2\u001b[0m d_list \u001b[38;5;241m=\u001b[39m \u001b[38;5;28msorted\u001b[39m(d_list,reverse\u001b[38;5;241m=\u001b[39m\u001b[38;5;28;01mTrue\u001b[39;00m)\n\u001b[0;32m      3\u001b[0m d_list[:\u001b[38;5;241m5\u001b[39m]\n",
      "\u001b[1;31mNameError\u001b[0m: name 'd' is not defined"
     ]
    }
   ],
   "source": [
    "d_list = [(value,key) for (key,value) in d.items()]\n",
    "d_list = sorted(d_list,reverse=True)\n",
    "d_list[:5]"
   ]
  }
 ],
 "metadata": {
  "kernelspec": {
   "display_name": "Python 3 (ipykernel)",
   "language": "python",
   "name": "python3"
  },
  "language_info": {
   "codemirror_mode": {
    "name": "ipython",
    "version": 3
   },
   "file_extension": ".py",
   "mimetype": "text/x-python",
   "name": "python",
   "nbconvert_exporter": "python",
   "pygments_lexer": "ipython3",
   "version": "3.10.11"
  }
 },
 "nbformat": 4,
 "nbformat_minor": 5
}
